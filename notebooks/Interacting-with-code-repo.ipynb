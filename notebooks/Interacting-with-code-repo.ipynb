{
 "cells": [
  {
   "cell_type": "markdown",
   "id": "0fdad8f7",
   "metadata": {},
   "source": [
    "---\n",
    "title: \"Using a GitHub Personal Access Token (PAT) to Push/Pull from a SageMaker Notebook\"\n",
    "teaching: 25\n",
    "exercises: 10\n",
    "---\n",
    "\n",
    ":::::::::::::::::::::::::::::::::::::: questions \n",
    "\n",
    "- How can I securely push/pull code to and from GitHub within a SageMaker notebook?\n",
    "- What steps are necessary to set up a GitHub PAT for authentication in SageMaker?\n",
    "- How can I convert notebooks to `.py` files and ignore `.ipynb` files in version control?\n",
    "\n",
    "::::::::::::::::::::::::::::::::::::::::::::::::\n",
    "\n",
    "::::::::::::::::::::::::::::::::::::: objectives\n",
    "\n",
    "- Configure Git in a SageMaker notebook to use a GitHub Personal Access Token (PAT) for HTTPS-based authentication.\n",
    "- Securely handle credentials in a notebook environment using `getpass`.\n",
    "- Convert `.ipynb` files to `.py` files for better version control practices in collaborative projects.\n",
    "\n",
    "::::::::::::::::::::::::::::::::::::::::::::::::\n",
    "\n",
    "## Step 0: Initial setup\n",
    "In the previous episode, we cloned our fork that we created during the [workshop setup](https://uw-madison-datascience.github.io/ML_with_Amazon_SageMaker/#workshop-repository-setup). In this episode, we'll see how to push our code to this fork. Complete these three setup steps before moving foward.\n",
    "\n",
    "1. Clone the fork if you haven't already. See previous episode.\n",
    "\n",
    "2. Start a new Jupyter notebook, and name it something along the lines of \"Interacting-with-git.ipynb\". We can use the standard conda_python3 environment since we aren't doing any training/tuning just yet.\n",
    "\n",
    "3. Let's make sure we're starting at the same directory. Cd to the root directory of this instance before going further."
   ]
  },
  {
   "cell_type": "code",
   "execution_count": null,
   "id": "c3e218f1",
   "metadata": {},
   "outputs": [],
   "source": [
    "%cd /home/ec2-user/SageMaker/"
   ]
  },
  {
   "cell_type": "markdown",
   "id": "9983871d",
   "metadata": {},
   "source": [
    "/home/ec2-user/SageMaker\n",
    "    \n",
    "## Step 1: Using a GitHub personal access token (PAT) to push/pull from a SageMaker notebook\n",
    "When working in SageMaker notebooks, you may often need to push code updates to GitHub repositories. However, SageMaker notebooks are typically launched with temporary instances that don't persist configurations, including SSH keys, across sessions. This makes HTTPS-based authentication, secured with a GitHub Personal Access Token (PAT), a practical solution. PATs provide flexibility for authentication and enable seamless interaction with both public and private repositories directly from your notebook. \n",
    "\n",
    "> **Important Note**: Personal access tokens are powerful credentials that grant specific permissions to your GitHub account. To ensure security, only select the minimum necessary permissions and handle the token carefully.\n",
    "\n",
    "#### Generate a personal access token (PAT) on GitHub\n",
    "1. Go to **Settings** by clicking on your profile picture in the upper-right corner of GitHub.\n",
    "2. Click **Developer settings** at the very bottom of the left sidebar.\n",
    "3. Select **Personal access tokens**, then click **Tokens (classic)**.\n",
    "4. Click **Generate new token (classic)**.\n",
    "5. Give your token a descriptive name (e.g., \"SageMaker Access Token\") and set an expiration date if desired for added security.\n",
    "6. **Select the minimum permissions needed**:\n",
    "   - **For public repositories**: Choose only **`public_repo`**.\n",
    "   - **For private repositories**: Choose **`repo`** (full control of private repositories).\n",
    "   - Optional permissions, if needed:\n",
    "     - **`repo:status`**: Access commit status (if checking status checks).\n",
    "     - **`workflow`**: Update GitHub Actions workflows (only if working with GitHub Actions).\n",
    "7. Click **Generate token** and **copy it immediately**—you won't be able to see it again once you leave the page.\n",
    "\n",
    "\n",
    "> **Caution**: Treat your PAT like a password. Avoid sharing it or exposing it in your code. Store it securely (e.g., via a password manager like LastPass) and consider rotating it regularly.\n",
    "\n",
    "#### Use `getpass` to prompt for username and PAT\n",
    "The `getpass` library allows you to input your GitHub username and PAT without exposing them in the notebook. This approach ensures you're not hardcoding sensitive information."
   ]
  },
  {
   "cell_type": "code",
   "execution_count": null,
   "id": "46d13cf3",
   "metadata": {},
   "outputs": [],
   "source": [
    "import getpass\n",
    "\n",
    "# Prompt for GitHub username and PAT securely\n",
    "username = input(\"GitHub Username: \")\n",
    "token = getpass.getpass(\"GitHub Personal Access Token (PAT): \")"
   ]
  },
  {
   "cell_type": "markdown",
   "id": "e344d542",
   "metadata": {},
   "source": [
    "**Note**: After running, you may want to comment out the above code so that you don't have to enter in your login every time you run your whole notebook\n",
    "\n",
    "## Step 2: Configure Git settings\n",
    "In your SageMaker or Jupyter notebook environment, run the following commands to set up your Git user information.\n",
    "\n",
    "Setting this globally (`--global`) will ensure the configuration persists across all repositories in the environment. If you're working in a temporary environment, you may need to re-run this configuration after a restart."
   ]
  },
  {
   "cell_type": "code",
   "execution_count": null,
   "id": "37253bac",
   "metadata": {},
   "outputs": [],
   "source": [
    "!git config --global user.name \"Your name\" # This is your GitHub username (or just your name), which will appear in the commit history as the author of the changes.\n",
    "!git config --global user.email your_email@wisc.edu # This should match the email associated with your GitHub account so that commits are properly linked to your profile."
   ]
  },
  {
   "cell_type": "markdown",
   "id": "ec6d4be9",
   "metadata": {},
   "source": [
    "## Step 3: Convert json .ipynb files to .py\n",
    "We'd like to track our notebook files within our AWS_helpers fork. However, to avoid tracking ipynb files directly, which are formatted as json, we may want to convert our notebook to .py first (plain text). Converting notebooks to `.py` files helps maintain code (and version-control) readability and minimizes potential issues with notebook-specific metadata in Git history. \n",
    "\n",
    "#### Benefits of converting to `.py` before Committing\n",
    "- **Cleaner version control**: `.py` files have cleaner diffs and are easier to review and merge in Git.\n",
    "- **Script compatibility**: Python files are more compatible with other environments and can run easily from the command line.\n",
    "- **Reduced repository size**: `.py` files are generally lighter than `.ipynb` files since they don't store outputs or metadata.\n",
    "\n",
    "Here's how to convert `.ipynb` files to `.py` in SageMaker without needing to export or download files.\n",
    "\n",
    "1. First, install Jupytext."
   ]
  },
  {
   "cell_type": "code",
   "execution_count": null,
   "id": "54310348",
   "metadata": {},
   "outputs": [],
   "source": [
    "!pip install jupytext"
   ]
  },
  {
   "cell_type": "markdown",
   "id": "bdd94cfa",
   "metadata": {},
   "source": [
    "2. Then, run the following command in a notebook cell to convert both of our notebooks to `.py` files"
   ]
  },
  {
   "cell_type": "code",
   "execution_count": null,
   "id": "d9592464",
   "metadata": {},
   "outputs": [],
   "source": [
    "# Adjust filename(s) if you used something different\n",
    "!jupytext --to py Interacting-with-S3.ipynb"
   ]
  },
  {
   "cell_type": "markdown",
   "id": "283b1369",
   "metadata": {},
   "source": [
    "[jupytext] Reading Interacting-with-S3.ipynb in format ipynb\n",
    "    [jupytext] Writing Interacting-with-S3.py\n",
    "\n",
    "3. If you have multiple notebooks to convert, you can automate the conversion process by running this code, which converts all `.ipynb` files in the current directory to `.py` files:"
   ]
  },
  {
   "cell_type": "code",
   "execution_count": null,
   "id": "3ddcb836",
   "metadata": {},
   "outputs": [],
   "source": [
    "import subprocess\n",
    "import os\n",
    "\n",
    "# List all .ipynb files in the directory\n",
    "notebooks = [f for f in os.listdir() if f.endswith('.ipynb')]\n",
    "\n",
    "# Convert each notebook to .py using jupytext\n",
    "for notebook in notebooks:\n",
    "    output_file = notebook.replace('.ipynb', '.py')\n",
    "    subprocess.run([\"jupytext\", \"--to\", \"py\", notebook, \"--output\", output_file])\n",
    "    print(f\"Converted {notebook} to {output_file}\")"
   ]
  },
  {
   "cell_type": "markdown",
   "id": "f6fa16bf",
   "metadata": {},
   "source": [
    "For convenience, we have placed this code inside a `convert_files()` function in `helpers.py`."
   ]
  },
  {
   "cell_type": "code",
   "execution_count": null,
   "id": "4a422acb",
   "metadata": {},
   "outputs": [],
   "source": [
    "import AWS_helpers.helpers as helpers\n",
    "helpers.convert_files(direction=\"notebook_to_python\")"
   ]
  },
  {
   "cell_type": "markdown",
   "id": "045c4e84",
   "metadata": {},
   "source": [
    "**Once converted, move our new .py file to the AWS_helpers folder using the file explorer panel in Jupyter Lab.**\n",
    "\n",
    "## Step 4. Add and commit .py files\n",
    "\n",
    "1. Check status of repo. Make sure you're in the repo folder before running the next step."
   ]
  },
  {
   "cell_type": "code",
   "execution_count": null,
   "id": "15b90b27",
   "metadata": {},
   "outputs": [],
   "source": [
    "%cd /home/ec2-user/SageMaker/AWS_helpers"
   ]
  },
  {
   "cell_type": "code",
   "execution_count": null,
   "id": "2b5690df",
   "metadata": {},
   "outputs": [],
   "source": [
    "!git status"
   ]
  },
  {
   "cell_type": "markdown",
   "id": "8a64b6d4",
   "metadata": {},
   "source": [
    "2. Add and commit changes"
   ]
  },
  {
   "cell_type": "code",
   "execution_count": null,
   "id": "f38c05e8",
   "metadata": {},
   "outputs": [],
   "source": [
    "!git add . # you may also add files one at a time, for further specificity over the associated commit message\n",
    "!git commit -m \"Updates from Jupyter notebooks\" # in general, your commit message should be more specific!"
   ]
  },
  {
   "cell_type": "markdown",
   "id": "5698d54c",
   "metadata": {},
   "source": [
    "3. Check status"
   ]
  },
  {
   "cell_type": "code",
   "execution_count": null,
   "id": "23b877ea",
   "metadata": {},
   "outputs": [],
   "source": [
    "!git status"
   ]
  },
  {
   "cell_type": "markdown",
   "id": "c31987cb",
   "metadata": {},
   "source": [
    "## Step 5. Adding .ipynb to gitigore\n",
    "\n",
    "Adding `.ipynb` files to `.gitignore` is a good practice if you plan to only commit `.py` scripts. This will prevent accidental commits of Jupyter Notebook files across all subfolders in the repository.\n",
    "\n",
    "Here's how to add `.ipynb` files to `.gitignore` to ignore them project-wide:\n",
    "\n",
    "1. **Check working directory**: First make sure we're in the repo folder"
   ]
  },
  {
   "cell_type": "code",
   "execution_count": null,
   "id": "b5c15eb7",
   "metadata": {},
   "outputs": [],
   "source": [
    "!pwd\n",
    "#%cd AWS_helpers"
   ]
  },
  {
   "cell_type": "markdown",
   "id": "4bae4a06",
   "metadata": {},
   "source": [
    "2. **Create the `.gitignore` file**: This file will be hidden in Jupyter (since it starts with \".\"), but you can verify it exists using `ls`."
   ]
  },
  {
   "cell_type": "code",
   "execution_count": null,
   "id": "6b4b8a4f",
   "metadata": {},
   "outputs": [],
   "source": [
    "!touch .gitignore\n",
    "!ls -a"
   ]
  },
  {
   "cell_type": "markdown",
   "id": "580ed6a6",
   "metadata": {},
   "source": [
    "3. **Add `.ipynb` files to `.gitignore`**: You can add this line using a command within your notebook:"
   ]
  },
  {
   "cell_type": "code",
   "execution_count": null,
   "id": "61637a6c",
   "metadata": {},
   "outputs": [],
   "source": [
    "with open(\".gitignore\", \"a\") as gitignore:\n",
    "gitignore.write(\"\\n# Ignore all Jupyter Notebook files\\n*.ipynb\\n\")"
   ]
  },
  {
   "cell_type": "markdown",
   "id": "54085708",
   "metadata": {},
   "source": [
    "View file contents"
   ]
  },
  {
   "cell_type": "code",
   "execution_count": null,
   "id": "eeea7c7d",
   "metadata": {},
   "outputs": [],
   "source": [
    "!cat .gitignore"
   ]
  },
  {
   "cell_type": "markdown",
   "id": "2441d5ab",
   "metadata": {},
   "source": [
    "4. **Ignore other common temp files**\n",
    "While we're at it, let's ignore other common files that can clutter repos, such as cache folders and temporary files."
   ]
  },
  {
   "cell_type": "code",
   "execution_count": null,
   "id": "3c8b5174",
   "metadata": {},
   "outputs": [],
   "source": [
    "with open(\".gitignore\", \"a\") as gitignore:\n",
    "gitignore.write(\"\\n# Ignore cache and temp files\\n__pycache__/\\n*.tmp\\n*.log\\n\")"
   ]
  },
  {
   "cell_type": "markdown",
   "id": "f2559d12",
   "metadata": {},
   "source": [
    "View file contents"
   ]
  },
  {
   "cell_type": "code",
   "execution_count": null,
   "id": "74df0bde",
   "metadata": {},
   "outputs": [],
   "source": [
    "!cat .gitignore"
   ]
  },
  {
   "cell_type": "markdown",
   "id": "62c2ad80",
   "metadata": {},
   "source": [
    "5. **Add and commit the `.gitignore` file**:\n",
    "\n",
    "Add and commit the updated `.gitignore` file to ensure it's applied across the repository."
   ]
  },
  {
   "cell_type": "code",
   "execution_count": null,
   "id": "95258a30",
   "metadata": {},
   "outputs": [],
   "source": [
    "!git add .gitignore\n",
    "!git commit -m \"Add .ipynb files to .gitignore to ignore notebooks\""
   ]
  },
  {
   "cell_type": "markdown",
   "id": "2a0cc577",
   "metadata": {},
   "source": [
    "This setup will:\n",
    "\n",
    "- Prevent all `.ipynb` files from being tracked by Git.\n",
    "- Keep your repository cleaner, containing only `.py` scripts for easier version control and reduced repository size. \n",
    "\n",
    "## Step 6. Merging local changes with remote/GitHub\n",
    "Our local changes have now been committed, and we can begin the process of mergining with the remoate main branch. Before we try to push our changes, it's good practice to first to a pull. This is critical when working on a collaborate repo with multiple users, so that you don't miss any updates from other team members.\n",
    "\n",
    "\n",
    "### 1. Pull the latest changes from the main branch\n",
    "There are a few different options for pulling the remote code into your local version. The best pull strategy depends on your workflow and the history structure you want to maintain. Here's a breakdown to help you decide:\n",
    "\n",
    "* Merge (pull.rebase false): Combines the remote changes into your local branch as a merge commit.\n",
    "   - **Use if**: You're okay with having merge commits in your history, which indicate where you pulled in remote changes. This is the default and is usually the easiest for team collaborations, especially if conflicts arise.\n",
    "\n",
    "* Rebase (pull.rebase true): Replays your local changes on top of the updated main branch, resulting in a linear history.\n",
    "    - **Use if**: You prefer a clean, linear history without merge commits. Rebase is useful if you like to keep your branch history as if all changes happened sequentially.\n",
    "\n",
    "* Fast-forward only (pull.ff only): Only pulls if the local branch can fast-forward to the remote without diverging (no new commits locally).\n",
    "    - **Use if**: You only want to pull updates if no additional commits have been made locally. This can be helpful to avoid unintended merges when your branch hasn't diverged.\n",
    "\n",
    "#### Recommended for Most Users\n",
    "If you're collaborating and want simplicity, **merge (pull.rebase false)** is often the most practical option. This will ensure you get remote changes with a merge commit that captures the history of integration points. For those who prefer a more streamlined history and are comfortable with Git, **rebase (pull.rebase true)** can be ideal but may require more careful conflict handling."
   ]
  },
  {
   "cell_type": "code",
   "execution_count": null,
   "id": "99cbc828",
   "metadata": {},
   "outputs": [],
   "source": [
    "!git config pull.rebase false # Combines the remote changes into your local branch as a merge commit.\n",
    "!git pull origin main"
   ]
  },
  {
   "cell_type": "markdown",
   "id": "115db093",
   "metadata": {},
   "source": [
    "From https://github.com/qualiaMachine/AWS_helpers\n",
    "     * branch            main       -> FETCH_HEAD\n",
    "    Already up to date.\n",
    "\n",
    "If you get merge conflicts, be sure to resolve those before moving forward (e.g., use git checkout -> add -> commit). You can skip the below code if you don't have any conflicts."
   ]
  },
  {
   "cell_type": "code",
   "execution_count": null,
   "id": "d902bf95",
   "metadata": {},
   "outputs": [],
   "source": [
    "# Keep your local changes in one conflicting file\n",
    "# !git checkout --ours Interacting-with-git.py\n",
    "\n",
    "# Keep remote version for the other conflicting file\n",
    "# !git checkout --theirs Interacting-with-git.py\n",
    "\n",
    "# # Stage the files to mark the conflicts as resolved\n",
    "# !git add Interacting-with-git.py\n",
    "\n",
    "# # Commit the merge result\n",
    "# !git commit -m \"Resolved merge conflicts by keeping local changes\""
   ]
  },
  {
   "cell_type": "markdown",
   "id": "e705f52e",
   "metadata": {},
   "source": [
    "### 2. Push changes using PAT creditials"
   ]
  },
  {
   "cell_type": "code",
   "execution_count": null,
   "id": "5209b217",
   "metadata": {},
   "outputs": [],
   "source": [
    "# Push with embedded credentials from getpass (avoids interactive prompt)\n",
    "github_url = 'github.com/username/AWS_helpers.git' # replace username with your own. THe full address for your fork can be found under Code -> Clone -> HTTPS (remote the https:// before the rest of the address)\n",
    "!git push https://{username}:{token}@{github_url} main"
   ]
  },
  {
   "cell_type": "markdown",
   "id": "e50b74e8",
   "metadata": {},
   "source": [
    "Enumerating objects: 6, done.\n",
    "\tCounting objects: 100% (6/6), done.\n",
    "\tDelta compression using up to 2 threads\n",
    "\tCompressing objects: 100% (5/5), done.\n",
    "\tWriting objects: 100% (5/5), 3.00 KiB | 3.00 MiB/s, done.\n",
    "\tTotal 5 (delta 0), reused 0 (delta 0), pack-reused 0\n",
    "\tTo https://github.com/qualiaMachine/AWS_helpers.git\n",
    "\t   bc47546..6a8bb8b  main -> main\n",
    "   \n",
    "After pushing, you should navigate back to your fork on GitHub to verify everything worked (e.g., https://github.com/username/AWS_helpers/tree/main)\n",
    "\n",
    "## Step 7: Pulling .py files and converting back to notebook format\n",
    "\n",
    "Let's assume you've taken a short break from your work, and others on your team have made updates to your .py files on the remote main branch. If you'd like to work with notebook files again, you can again use jupytext to convert your `.py` files back to `.ipynb`. \n",
    "\n",
    "1. First, pull any updates from the remote main branch."
   ]
  },
  {
   "cell_type": "code",
   "execution_count": null,
   "id": "6d16ca2a",
   "metadata": {},
   "outputs": [],
   "source": [
    "!git config pull.rebase false # Combines the remote changes into your local branch as a merge commit.\n",
    "!git pull origin main"
   ]
  },
  {
   "cell_type": "markdown",
   "id": "81bfb241",
   "metadata": {},
   "source": [
    "2. We can then use jupytext again to convert in the other direction (.py to .ipynb).\n",
    "This command will create `Interacting-with-S3.ipynb` in the current directory, converting the Python script to a Jupyter Notebook format. Jupytext handles the conversion gracefully without expecting the `.py` file to be in JSON format."
   ]
  },
  {
   "cell_type": "code",
   "execution_count": null,
   "id": "ff2539d0",
   "metadata": {},
   "outputs": [],
   "source": [
    "# Replace 'your_script.py' with your actual filename\n",
    "!jupytext --to notebook Interacting-with-S3.py --output Interacting-with-S3.ipynb"
   ]
  },
  {
   "cell_type": "markdown",
   "id": "3e0ce836",
   "metadata": {},
   "source": [
    "### Applying to all .py files\n",
    "To convert all of your .py files to notebooks, you can use our helper function as follows"
   ]
  },
  {
   "cell_type": "code",
   "execution_count": null,
   "id": "cfd42c38",
   "metadata": {},
   "outputs": [],
   "source": [
    "helpers.convert_files(direction=\"python_to_notebook\")"
   ]
  },
  {
   "cell_type": "markdown",
   "id": "145801c5",
   "metadata": {},
   "source": [
    ":::::::::::::::::::::::::::::::::::::: keypoints \n",
    "\n",
    "- Use a GitHub PAT for HTTPS-based authentication in temporary SageMaker notebook instances.\n",
    "- Securely enter sensitive information in notebooks using `getpass`.\n",
    "- Converting `.ipynb` files to `.py` files helps with cleaner version control and easier review of changes.\n",
    "- Adding `.ipynb` files to `.gitignore` keeps your repository organized and reduces storage.\n",
    "\n",
    "::::::::::::::::::::::::::::::::::::::::::::::::"
   ]
  }
 ],
 "metadata": {},
 "nbformat": 4,
 "nbformat_minor": 5
}
