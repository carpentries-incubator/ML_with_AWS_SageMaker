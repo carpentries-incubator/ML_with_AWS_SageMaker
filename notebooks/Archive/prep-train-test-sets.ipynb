{
 "cells": [
  {
   "cell_type": "code",
   "execution_count": null,
   "id": "3c116e71-6f6b-4392-a6c3-3f9cd3b71df3",
   "metadata": {},
   "outputs": [],
   "source": [
    "import boto3\n",
    "import pandas as pd\n",
    "import sagemaker\n",
    "from sagemaker import get_execution_role\n",
    "\n",
    "# Initialize the SageMaker role and session\n",
    "# Define the SageMaker role and session\n",
    "role = sagemaker.get_execution_role()\n",
    "session = sagemaker.Session()\n",
    "s3 = boto3.client('s3')\n",
    "\n",
    "# Define the S3 bucket and object key\n",
    "bucket = 'titanic-dataset-test'  # replace with your S3 bucket name\n",
    "key = 'train.csv'  # replace with your object key\n",
    "\n",
    "# Read the object from S3\n",
    "response = s3.get_object(Bucket=bucket, Key=key)\n",
    "\n",
    "# Load the data into a pandas DataFrame\n",
    "train_data = pd.read_csv(response['Body'])\n",
    "\n",
    "# check shape\n",
    "print(train_data.shape)\n",
    "\n",
    "# Inspect the first few rows of the DataFrame\n",
    "train_data.head()\n",
    "# train_data.shape"
   ]
  },
  {
   "cell_type": "code",
   "execution_count": null,
   "id": "fa8a07bf-5f95-4fee-9d6b-897642304501",
   "metadata": {},
   "outputs": [],
   "source": [
    "from sklearn.model_selection import train_test_split\n",
    "\n",
    "# Assuming your target variable is named 'target'\n",
    "train_df, test_df = train_test_split(train_data, test_size=0.2, random_state=42, stratify=df['Survived'])\n",
    "print(train_df.shape)\n",
    "print(test_df.shape)\n",
    "test_df.head()"
   ]
  },
  {
   "cell_type": "code",
   "execution_count": null,
   "id": "e1c89542-a7e6-4d98-b682-8b871dd592d1",
   "metadata": {},
   "outputs": [],
   "source": [
    "# Save the training set\n",
    "train_df.to_csv(\"data/titanic_train.csv\", index=False)\n",
    "\n",
    "# Save the test set\n",
    "test_df.to_csv(\"data/titanic_test.csv\", index=False)"
   ]
  },
  {
   "cell_type": "code",
   "execution_count": null,
   "id": "6aab19e5-bb52-4ee7-8338-54e479f6f9d9",
   "metadata": {},
   "outputs": [],
   "source": [
    "import boto3\n",
    "\n",
    "# Define the S3 bucket name and the file paths\n",
    "train_file_path = \"test_AWS/data/titanic_train.csv\"\n",
    "test_file_path = \"test_AWS/data/titanic_test.csv\"\n",
    "\n",
    "# Initialize the S3 client\n",
    "s3 = boto3.client('s3')\n",
    "\n",
    "# Upload the training file\n",
    "s3.upload_file(train_file_path, bucket, \"data/titanic_train.csv\")\n",
    "\n",
    "# Upload the test file\n",
    "s3.upload_file(test_file_path, bucket, \"data/titanic_test.csv\")\n",
    "\n",
    "print(\"Files uploaded successfully.\")\n"
   ]
  }
 ],
 "metadata": {
  "kernelspec": {
   "display_name": "conda_python3",
   "language": "python",
   "name": "conda_python3"
  },
  "language_info": {
   "codemirror_mode": {
    "name": "ipython",
    "version": 3
   },
   "file_extension": ".py",
   "mimetype": "text/x-python",
   "name": "python",
   "nbconvert_exporter": "python",
   "pygments_lexer": "ipython3",
   "version": "3.10.15"
  }
 },
 "nbformat": 4,
 "nbformat_minor": 5
}
