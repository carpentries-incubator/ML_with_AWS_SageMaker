{
 "cells": [
  {
   "cell_type": "markdown",
   "id": "8965828d-379f-4826-9624-df531216d268",
   "metadata": {},
   "source": [
    "### View all running notebook instance info"
   ]
  },
  {
   "cell_type": "code",
   "execution_count": null,
   "id": "083e8e4c-5c6f-4ce6-9c4c-a72738598a8d",
   "metadata": {},
   "outputs": [],
   "source": [
    "import boto3\n",
    "import requests\n",
    "\n",
    "# Get the current instance ID\n",
    "response = requests.get(\"http://169.254.169.254/latest/meta-data/instance-id\")\n",
    "instance_id = response.text\n",
    "\n",
    "# Initialize SageMaker client\n",
    "sagemaker_client = boto3.client(\"sagemaker\")\n",
    "\n",
    "# List notebook instances to find the one with the matching instance ID\n",
    "response = sagemaker_client.list_notebook_instances()\n",
    "for instance in response[\"NotebookInstances\"]:\n",
    "    if instance.get(\"NotebookInstanceStatus\") == \"InService\":\n",
    "        print(f\"Notebook Instance Name: {instance['NotebookInstanceName']}\")\n",
    "        break\n"
   ]
  }
 ],
 "metadata": {
  "kernelspec": {
   "display_name": "conda_tensorflow2_p310",
   "language": "python",
   "name": "conda_tensorflow2_p310"
  },
  "language_info": {
   "codemirror_mode": {
    "name": "ipython",
    "version": 3
   },
   "file_extension": ".py",
   "mimetype": "text/x-python",
   "name": "python",
   "nbconvert_exporter": "python",
   "pygments_lexer": "ipython3",
   "version": "3.10.15"
  }
 },
 "nbformat": 4,
 "nbformat_minor": 5
}
