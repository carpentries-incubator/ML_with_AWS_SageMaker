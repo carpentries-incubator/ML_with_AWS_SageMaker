{
 "cells": [
  {
   "cell_type": "code",
   "execution_count": null,
   "id": "72b30b12-26e5-4ab7-b4d0-2f39d4b94aef",
   "metadata": {},
   "outputs": [],
   "source": [
    "import pandas as pd\n",
    "\n",
    "# Load the original Titanic training dataset\n",
    "df = pd.read_csv('train.csv')\n",
    "\n",
    "n_rows = 5000000\n",
    "\n",
    "# Calculate how many times we need to duplicate the dataset to reach ~20,000 rows\n",
    "num_duplicates = (n_rows // len(df)) + 1\n",
    "\n",
    "# Concatenate the original dataset with itself to reach the desired number of rows\n",
    "df_expanded = pd.concat([df] * num_duplicates, ignore_index=True)\n",
    "\n",
    "# Truncate the DataFrame to exactly 20,000 rows\n",
    "df_expanded = df_expanded.iloc[:n_rows]\n",
    "\n",
    "# Save the expanded dataset as train_large.csv\n",
    "df_expanded.to_csv('train_large.csv', index=False)\n",
    "\n",
    "print(\"Expanded dataset saved as train_large.csv with\", len(df_expanded), \"rows.\")\n"
   ]
  },
  {
   "cell_type": "code",
   "execution_count": null,
   "id": "609305cf-e26e-408b-afe4-36b62c441a31",
   "metadata": {},
   "outputs": [],
   "source": [
    "import boto3\n",
    "import pandas as pd\n",
    "import sagemaker\n",
    "from sagemaker import get_execution_role\n",
    "\n",
    "# Initialize the SageMaker role and session\n",
    "# Define the SageMaker role and session\n",
    "role = sagemaker.get_execution_role()\n",
    "session = sagemaker.Session()\n",
    "s3 = boto3.client('s3')\n",
    "\n",
    "# Define the S3 bucket and object key\n",
    "bucket = 'titanic-dataset-test'  # replace with your S3 bucket name\n",
    "key = 'test.csv'  # replace with your object key\n",
    "\n",
    "# Read the object from S3\n",
    "response = s3.get_object(Bucket=bucket, Key=key)\n",
    "\n",
    "# Load the data into a pandas DataFrame\n",
    "train_data = pd.read_csv(response['Body'])\n",
    "\n",
    "# Inspect the first few rows of the DataFrame\n",
    "train_data.head()\n",
    "\n",
    "\n",
    "# Split data for evaluation purposes\n",
    "X_train, X_val, y_train, y_val = train_test_split(X, y, test_size=0.2, random_state=42)\n"
   ]
  }
 ],
 "metadata": {
  "kernelspec": {
   "display_name": "conda_pytorch_p310",
   "language": "python",
   "name": "conda_pytorch_p310"
  },
  "language_info": {
   "codemirror_mode": {
    "name": "ipython",
    "version": 3
   },
   "file_extension": ".py",
   "mimetype": "text/x-python",
   "name": "python",
   "nbconvert_exporter": "python",
   "pygments_lexer": "ipython3",
   "version": "3.10.14"
  }
 },
 "nbformat": 4,
 "nbformat_minor": 5
}
